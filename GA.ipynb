{
 "cells": [
  {
   "cell_type": "markdown",
   "id": "380fe0c9",
   "metadata": {},
   "source": [
    "### 遗传算法"
   ]
  },
  {
   "cell_type": "markdown",
   "id": "cbb1de01",
   "metadata": {},
   "source": [
    "!git clone git@github.com:HTRT/GA.git"
   ]
  }
 ],
 "metadata": {
  "kernelspec": {
   "display_name": "Python 3",
   "language": "python",
   "name": "python3"
  },
  "language_info": {
   "codemirror_mode": {
    "name": "ipython",
    "version": 3
   },
   "file_extension": ".py",
   "mimetype": "text/x-python",
   "name": "python",
   "nbconvert_exporter": "python",
   "pygments_lexer": "ipython3",
   "version": "3.8.8"
  }
 },
 "nbformat": 4,
 "nbformat_minor": 5
}
